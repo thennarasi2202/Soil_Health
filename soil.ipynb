{
  "cells": [
    {
      "cell_type": "code",
      "execution_count": null,
      "metadata": {
        "id": "z5_bWlCcVemS"
      },
      "outputs": [],
      "source": [
        "import pandas as pd\n",
        "df = pd.read_csv(r\"C:\\Users\\thenn\\Desktop\\soil_health\\Soil Nutrients.csv\")"
      ]
    },
    {
      "cell_type": "code",
      "execution_count": 2,
      "metadata": {
        "colab": {
          "base_uri": "https://localhost:8080/",
          "height": 565
        },
        "id": "5fi-B2tKVzXc",
        "outputId": "c5c5122b-ed95-4590-8411-4d93feb159eb"
      },
      "outputs": [
        {
          "data": {
            "text/html": [
              "<div>\n",
              "<style scoped>\n",
              "    .dataframe tbody tr th:only-of-type {\n",
              "        vertical-align: middle;\n",
              "    }\n",
              "\n",
              "    .dataframe tbody tr th {\n",
              "        vertical-align: top;\n",
              "    }\n",
              "\n",
              "    .dataframe thead th {\n",
              "        text-align: right;\n",
              "    }\n",
              "</style>\n",
              "<table border=\"1\" class=\"dataframe\">\n",
              "  <thead>\n",
              "    <tr style=\"text-align: right;\">\n",
              "      <th></th>\n",
              "      <th>Name</th>\n",
              "      <th>Fertility</th>\n",
              "      <th>Photoperiod</th>\n",
              "      <th>Temperature</th>\n",
              "      <th>Rainfall</th>\n",
              "      <th>pH</th>\n",
              "      <th>Light_Hours</th>\n",
              "      <th>Light_Intensity</th>\n",
              "      <th>Rh</th>\n",
              "      <th>Nitrogen</th>\n",
              "      <th>Phosphorus</th>\n",
              "      <th>Potassium</th>\n",
              "      <th>Yield</th>\n",
              "      <th>Category_pH</th>\n",
              "      <th>Soil_Type</th>\n",
              "      <th>Season</th>\n",
              "      <th>N_Ratio</th>\n",
              "      <th>P_Ratio</th>\n",
              "      <th>K_Ratio</th>\n",
              "    </tr>\n",
              "  </thead>\n",
              "  <tbody>\n",
              "    <tr>\n",
              "      <th>0</th>\n",
              "      <td>Strawberry</td>\n",
              "      <td>Moderate</td>\n",
              "      <td>Day Neutral</td>\n",
              "      <td>20.887923</td>\n",
              "      <td>747.860765</td>\n",
              "      <td>6.571548</td>\n",
              "      <td>13.091483</td>\n",
              "      <td>533.762876</td>\n",
              "      <td>91.197196</td>\n",
              "      <td>170.800381</td>\n",
              "      <td>118.670058</td>\n",
              "      <td>243.331211</td>\n",
              "      <td>20.369555</td>\n",
              "      <td>low_acidic</td>\n",
              "      <td>Loam</td>\n",
              "      <td>Summer</td>\n",
              "      <td>10.0</td>\n",
              "      <td>10.0</td>\n",
              "      <td>10.0</td>\n",
              "    </tr>\n",
              "    <tr>\n",
              "      <th>1</th>\n",
              "      <td>Strawberry</td>\n",
              "      <td>Moderate</td>\n",
              "      <td>Day Neutral</td>\n",
              "      <td>18.062721</td>\n",
              "      <td>711.104329</td>\n",
              "      <td>6.251806</td>\n",
              "      <td>13.063016</td>\n",
              "      <td>505.789101</td>\n",
              "      <td>91.939623</td>\n",
              "      <td>179.290364</td>\n",
              "      <td>121.020244</td>\n",
              "      <td>246.910378</td>\n",
              "      <td>20.402751</td>\n",
              "      <td>low_acidic</td>\n",
              "      <td>Loam</td>\n",
              "      <td>Spring</td>\n",
              "      <td>10.0</td>\n",
              "      <td>10.0</td>\n",
              "      <td>10.0</td>\n",
              "    </tr>\n",
              "    <tr>\n",
              "      <th>2</th>\n",
              "      <td>Strawberry</td>\n",
              "      <td>Moderate</td>\n",
              "      <td>Short Day Period</td>\n",
              "      <td>16.776782</td>\n",
              "      <td>774.038247</td>\n",
              "      <td>6.346916</td>\n",
              "      <td>12.945927</td>\n",
              "      <td>512.985617</td>\n",
              "      <td>91.387286</td>\n",
              "      <td>181.440732</td>\n",
              "      <td>116.936806</td>\n",
              "      <td>242.699601</td>\n",
              "      <td>19.158847</td>\n",
              "      <td>low_acidic</td>\n",
              "      <td>Loam</td>\n",
              "      <td>Summer</td>\n",
              "      <td>10.0</td>\n",
              "      <td>10.0</td>\n",
              "      <td>10.0</td>\n",
              "    </tr>\n",
              "    <tr>\n",
              "      <th>3</th>\n",
              "      <td>Strawberry</td>\n",
              "      <td>Moderate</td>\n",
              "      <td>Short Day Period</td>\n",
              "      <td>14.281000</td>\n",
              "      <td>665.633506</td>\n",
              "      <td>6.259598</td>\n",
              "      <td>13.318922</td>\n",
              "      <td>484.860067</td>\n",
              "      <td>91.254598</td>\n",
              "      <td>176.165282</td>\n",
              "      <td>122.233153</td>\n",
              "      <td>237.096892</td>\n",
              "      <td>20.265745</td>\n",
              "      <td>low_acidic</td>\n",
              "      <td>Loam</td>\n",
              "      <td>Summer</td>\n",
              "      <td>10.0</td>\n",
              "      <td>10.0</td>\n",
              "      <td>10.0</td>\n",
              "    </tr>\n",
              "    <tr>\n",
              "      <th>4</th>\n",
              "      <td>Strawberry</td>\n",
              "      <td>Moderate</td>\n",
              "      <td>Day Neutral</td>\n",
              "      <td>21.444490</td>\n",
              "      <td>806.531455</td>\n",
              "      <td>6.384368</td>\n",
              "      <td>13.312915</td>\n",
              "      <td>512.747307</td>\n",
              "      <td>92.354829</td>\n",
              "      <td>182.935334</td>\n",
              "      <td>126.088234</td>\n",
              "      <td>243.880364</td>\n",
              "      <td>20.397336</td>\n",
              "      <td>low_acidic</td>\n",
              "      <td>Loam</td>\n",
              "      <td>Spring</td>\n",
              "      <td>10.0</td>\n",
              "      <td>10.0</td>\n",
              "      <td>10.0</td>\n",
              "    </tr>\n",
              "    <tr>\n",
              "      <th>...</th>\n",
              "      <td>...</td>\n",
              "      <td>...</td>\n",
              "      <td>...</td>\n",
              "      <td>...</td>\n",
              "      <td>...</td>\n",
              "      <td>...</td>\n",
              "      <td>...</td>\n",
              "      <td>...</td>\n",
              "      <td>...</td>\n",
              "      <td>...</td>\n",
              "      <td>...</td>\n",
              "      <td>...</td>\n",
              "      <td>...</td>\n",
              "      <td>...</td>\n",
              "      <td>...</td>\n",
              "      <td>...</td>\n",
              "      <td>...</td>\n",
              "      <td>...</td>\n",
              "      <td>...</td>\n",
              "    </tr>\n",
              "    <tr>\n",
              "      <th>15395</th>\n",
              "      <td>Green Peas</td>\n",
              "      <td>Moderate</td>\n",
              "      <td>Short Day Period</td>\n",
              "      <td>18.237489</td>\n",
              "      <td>1079.572958</td>\n",
              "      <td>6.777649</td>\n",
              "      <td>6.913269</td>\n",
              "      <td>314.935840</td>\n",
              "      <td>65.057374</td>\n",
              "      <td>150.515721</td>\n",
              "      <td>48.860186</td>\n",
              "      <td>124.688035</td>\n",
              "      <td>4.977256</td>\n",
              "      <td>neutral</td>\n",
              "      <td>Sandy</td>\n",
              "      <td>Fall</td>\n",
              "      <td>5.0</td>\n",
              "      <td>10.0</td>\n",
              "      <td>10.0</td>\n",
              "    </tr>\n",
              "    <tr>\n",
              "      <th>15396</th>\n",
              "      <td>Green Peas</td>\n",
              "      <td>Moderate</td>\n",
              "      <td>Short Day Period</td>\n",
              "      <td>16.603638</td>\n",
              "      <td>958.201820</td>\n",
              "      <td>5.839441</td>\n",
              "      <td>6.829060</td>\n",
              "      <td>345.860296</td>\n",
              "      <td>66.747340</td>\n",
              "      <td>144.310767</td>\n",
              "      <td>44.647790</td>\n",
              "      <td>121.589160</td>\n",
              "      <td>4.987133</td>\n",
              "      <td>neutral</td>\n",
              "      <td>Sandy</td>\n",
              "      <td>Fall</td>\n",
              "      <td>5.0</td>\n",
              "      <td>10.0</td>\n",
              "      <td>10.0</td>\n",
              "    </tr>\n",
              "    <tr>\n",
              "      <th>15397</th>\n",
              "      <td>Green Peas</td>\n",
              "      <td>Moderate</td>\n",
              "      <td>Short Day Period</td>\n",
              "      <td>12.154144</td>\n",
              "      <td>947.899222</td>\n",
              "      <td>6.499094</td>\n",
              "      <td>6.938902</td>\n",
              "      <td>320.293737</td>\n",
              "      <td>65.803531</td>\n",
              "      <td>147.068405</td>\n",
              "      <td>42.351771</td>\n",
              "      <td>120.392912</td>\n",
              "      <td>5.043142</td>\n",
              "      <td>low_acidic</td>\n",
              "      <td>Sandy</td>\n",
              "      <td>Fall</td>\n",
              "      <td>5.0</td>\n",
              "      <td>10.0</td>\n",
              "      <td>10.0</td>\n",
              "    </tr>\n",
              "    <tr>\n",
              "      <th>15398</th>\n",
              "      <td>Green Peas</td>\n",
              "      <td>Moderate</td>\n",
              "      <td>Short Day Period</td>\n",
              "      <td>17.493029</td>\n",
              "      <td>863.902923</td>\n",
              "      <td>5.940159</td>\n",
              "      <td>6.778806</td>\n",
              "      <td>300.501265</td>\n",
              "      <td>64.563183</td>\n",
              "      <td>144.416616</td>\n",
              "      <td>44.405726</td>\n",
              "      <td>119.291683</td>\n",
              "      <td>4.687349</td>\n",
              "      <td>low_acidic</td>\n",
              "      <td>Sandy</td>\n",
              "      <td>Spring</td>\n",
              "      <td>5.0</td>\n",
              "      <td>10.0</td>\n",
              "      <td>10.0</td>\n",
              "    </tr>\n",
              "    <tr>\n",
              "      <th>15399</th>\n",
              "      <td>Green Peas</td>\n",
              "      <td>Moderate</td>\n",
              "      <td>Short Day Period</td>\n",
              "      <td>19.874206</td>\n",
              "      <td>1019.356655</td>\n",
              "      <td>6.463193</td>\n",
              "      <td>6.962825</td>\n",
              "      <td>370.327982</td>\n",
              "      <td>63.412816</td>\n",
              "      <td>142.049274</td>\n",
              "      <td>46.346595</td>\n",
              "      <td>119.871309</td>\n",
              "      <td>5.123992</td>\n",
              "      <td>low_acidic</td>\n",
              "      <td>Sandy</td>\n",
              "      <td>Spring</td>\n",
              "      <td>5.0</td>\n",
              "      <td>10.0</td>\n",
              "      <td>10.0</td>\n",
              "    </tr>\n",
              "  </tbody>\n",
              "</table>\n",
              "<p>15400 rows × 19 columns</p>\n",
              "</div>"
            ],
            "text/plain": [
              "             Name Fertility       Photoperiod  Temperature     Rainfall  \\\n",
              "0      Strawberry  Moderate       Day Neutral    20.887923   747.860765   \n",
              "1      Strawberry  Moderate       Day Neutral    18.062721   711.104329   \n",
              "2      Strawberry  Moderate  Short Day Period    16.776782   774.038247   \n",
              "3      Strawberry  Moderate  Short Day Period    14.281000   665.633506   \n",
              "4      Strawberry  Moderate       Day Neutral    21.444490   806.531455   \n",
              "...           ...       ...               ...          ...          ...   \n",
              "15395  Green Peas  Moderate  Short Day Period    18.237489  1079.572958   \n",
              "15396  Green Peas  Moderate  Short Day Period    16.603638   958.201820   \n",
              "15397  Green Peas  Moderate  Short Day Period    12.154144   947.899222   \n",
              "15398  Green Peas  Moderate  Short Day Period    17.493029   863.902923   \n",
              "15399  Green Peas  Moderate  Short Day Period    19.874206  1019.356655   \n",
              "\n",
              "             pH  Light_Hours  Light_Intensity         Rh    Nitrogen  \\\n",
              "0      6.571548    13.091483       533.762876  91.197196  170.800381   \n",
              "1      6.251806    13.063016       505.789101  91.939623  179.290364   \n",
              "2      6.346916    12.945927       512.985617  91.387286  181.440732   \n",
              "3      6.259598    13.318922       484.860067  91.254598  176.165282   \n",
              "4      6.384368    13.312915       512.747307  92.354829  182.935334   \n",
              "...         ...          ...              ...        ...         ...   \n",
              "15395  6.777649     6.913269       314.935840  65.057374  150.515721   \n",
              "15396  5.839441     6.829060       345.860296  66.747340  144.310767   \n",
              "15397  6.499094     6.938902       320.293737  65.803531  147.068405   \n",
              "15398  5.940159     6.778806       300.501265  64.563183  144.416616   \n",
              "15399  6.463193     6.962825       370.327982  63.412816  142.049274   \n",
              "\n",
              "       Phosphorus   Potassium      Yield Category_pH Soil_Type  Season  \\\n",
              "0      118.670058  243.331211  20.369555  low_acidic      Loam  Summer   \n",
              "1      121.020244  246.910378  20.402751  low_acidic      Loam  Spring   \n",
              "2      116.936806  242.699601  19.158847  low_acidic      Loam  Summer   \n",
              "3      122.233153  237.096892  20.265745  low_acidic      Loam  Summer   \n",
              "4      126.088234  243.880364  20.397336  low_acidic      Loam  Spring   \n",
              "...           ...         ...        ...         ...       ...     ...   \n",
              "15395   48.860186  124.688035   4.977256     neutral     Sandy    Fall   \n",
              "15396   44.647790  121.589160   4.987133     neutral     Sandy    Fall   \n",
              "15397   42.351771  120.392912   5.043142  low_acidic     Sandy    Fall   \n",
              "15398   44.405726  119.291683   4.687349  low_acidic     Sandy  Spring   \n",
              "15399   46.346595  119.871309   5.123992  low_acidic     Sandy  Spring   \n",
              "\n",
              "       N_Ratio  P_Ratio  K_Ratio  \n",
              "0         10.0     10.0     10.0  \n",
              "1         10.0     10.0     10.0  \n",
              "2         10.0     10.0     10.0  \n",
              "3         10.0     10.0     10.0  \n",
              "4         10.0     10.0     10.0  \n",
              "...        ...      ...      ...  \n",
              "15395      5.0     10.0     10.0  \n",
              "15396      5.0     10.0     10.0  \n",
              "15397      5.0     10.0     10.0  \n",
              "15398      5.0     10.0     10.0  \n",
              "15399      5.0     10.0     10.0  \n",
              "\n",
              "[15400 rows x 19 columns]"
            ]
          },
          "execution_count": 2,
          "metadata": {},
          "output_type": "execute_result"
        }
      ],
      "source": [
        "df"
      ]
    },
    {
      "cell_type": "code",
      "execution_count": 3,
      "metadata": {
        "colab": {
          "base_uri": "https://localhost:8080/"
        },
        "id": "F3yIKKu3V0PZ",
        "outputId": "9b55a037-0361-4fd0-f34f-a16a7a402b8d"
      },
      "outputs": [
        {
          "data": {
            "text/plain": [
              "Index(['Name', 'Fertility', 'Photoperiod', 'Temperature', 'Rainfall', 'pH',\n",
              "       'Light_Hours', 'Light_Intensity', 'Rh', 'Nitrogen', 'Phosphorus',\n",
              "       'Potassium', 'Yield', 'Category_pH', 'Soil_Type', 'Season', 'N_Ratio',\n",
              "       'P_Ratio', 'K_Ratio'],\n",
              "      dtype='object')"
            ]
          },
          "execution_count": 3,
          "metadata": {},
          "output_type": "execute_result"
        }
      ],
      "source": [
        "df.columns"
      ]
    },
    {
      "cell_type": "code",
      "execution_count": 4,
      "metadata": {
        "colab": {
          "base_uri": "https://localhost:8080/"
        },
        "id": "XAg_FryXWFD8",
        "outputId": "b443f902-9f7f-4862-d7d5-a3ddcf3045d3"
      },
      "outputs": [
        {
          "name": "stdout",
          "output_type": "stream",
          "text": [
            "<class 'pandas.core.frame.DataFrame'>\n",
            "RangeIndex: 15400 entries, 0 to 15399\n",
            "Data columns (total 19 columns):\n",
            " #   Column           Non-Null Count  Dtype  \n",
            "---  ------           --------------  -----  \n",
            " 0   Name             15400 non-null  object \n",
            " 1   Fertility        15400 non-null  object \n",
            " 2   Photoperiod      15400 non-null  object \n",
            " 3   Temperature      15400 non-null  float64\n",
            " 4   Rainfall         15400 non-null  float64\n",
            " 5   pH               15400 non-null  float64\n",
            " 6   Light_Hours      15400 non-null  float64\n",
            " 7   Light_Intensity  15400 non-null  float64\n",
            " 8   Rh               15400 non-null  float64\n",
            " 9   Nitrogen         15400 non-null  float64\n",
            " 10  Phosphorus       15400 non-null  float64\n",
            " 11  Potassium        15400 non-null  float64\n",
            " 12  Yield            15400 non-null  float64\n",
            " 13  Category_pH      15400 non-null  object \n",
            " 14  Soil_Type        15400 non-null  object \n",
            " 15  Season           15400 non-null  object \n",
            " 16  N_Ratio          15400 non-null  float64\n",
            " 17  P_Ratio          15400 non-null  float64\n",
            " 18  K_Ratio          15400 non-null  float64\n",
            "dtypes: float64(13), object(6)\n",
            "memory usage: 2.2+ MB\n"
          ]
        }
      ],
      "source": [
        "df.info()"
      ]
    },
    {
      "cell_type": "code",
      "execution_count": 5,
      "metadata": {
        "colab": {
          "base_uri": "https://localhost:8080/",
          "height": 320
        },
        "id": "flgnjbgPWI9U",
        "outputId": "97a4c3da-a560-441c-9121-709a6f5c4230"
      },
      "outputs": [
        {
          "data": {
            "text/html": [
              "<div>\n",
              "<style scoped>\n",
              "    .dataframe tbody tr th:only-of-type {\n",
              "        vertical-align: middle;\n",
              "    }\n",
              "\n",
              "    .dataframe tbody tr th {\n",
              "        vertical-align: top;\n",
              "    }\n",
              "\n",
              "    .dataframe thead th {\n",
              "        text-align: right;\n",
              "    }\n",
              "</style>\n",
              "<table border=\"1\" class=\"dataframe\">\n",
              "  <thead>\n",
              "    <tr style=\"text-align: right;\">\n",
              "      <th></th>\n",
              "      <th>Temperature</th>\n",
              "      <th>Rainfall</th>\n",
              "      <th>pH</th>\n",
              "      <th>Light_Hours</th>\n",
              "      <th>Light_Intensity</th>\n",
              "      <th>Rh</th>\n",
              "      <th>Nitrogen</th>\n",
              "      <th>Phosphorus</th>\n",
              "      <th>Potassium</th>\n",
              "      <th>Yield</th>\n",
              "      <th>N_Ratio</th>\n",
              "      <th>P_Ratio</th>\n",
              "      <th>K_Ratio</th>\n",
              "    </tr>\n",
              "  </thead>\n",
              "  <tbody>\n",
              "    <tr>\n",
              "      <th>count</th>\n",
              "      <td>15400.000000</td>\n",
              "      <td>15400.000000</td>\n",
              "      <td>15400.000000</td>\n",
              "      <td>15400.000000</td>\n",
              "      <td>15400.000000</td>\n",
              "      <td>15400.000000</td>\n",
              "      <td>15400.000000</td>\n",
              "      <td>15400.000000</td>\n",
              "      <td>15400.000000</td>\n",
              "      <td>15400.000000</td>\n",
              "      <td>15400.000000</td>\n",
              "      <td>15400.000000</td>\n",
              "      <td>15400.000000</td>\n",
              "    </tr>\n",
              "    <tr>\n",
              "      <th>mean</th>\n",
              "      <td>20.801671</td>\n",
              "      <td>948.814222</td>\n",
              "      <td>6.473372</td>\n",
              "      <td>9.459365</td>\n",
              "      <td>398.048832</td>\n",
              "      <td>67.117251</td>\n",
              "      <td>142.769483</td>\n",
              "      <td>107.659893</td>\n",
              "      <td>180.481105</td>\n",
              "      <td>22.749990</td>\n",
              "      <td>12.636364</td>\n",
              "      <td>11.704545</td>\n",
              "      <td>12.477273</td>\n",
              "    </tr>\n",
              "    <tr>\n",
              "      <th>std</th>\n",
              "      <td>4.415164</td>\n",
              "      <td>340.884493</td>\n",
              "      <td>0.449111</td>\n",
              "      <td>2.588466</td>\n",
              "      <td>190.512173</td>\n",
              "      <td>19.005233</td>\n",
              "      <td>58.524592</td>\n",
              "      <td>72.778284</td>\n",
              "      <td>103.989340</td>\n",
              "      <td>15.541414</td>\n",
              "      <td>14.028173</td>\n",
              "      <td>5.761853</td>\n",
              "      <td>7.805376</td>\n",
              "    </tr>\n",
              "    <tr>\n",
              "      <th>min</th>\n",
              "      <td>9.355908</td>\n",
              "      <td>409.927161</td>\n",
              "      <td>4.888871</td>\n",
              "      <td>5.044913</td>\n",
              "      <td>69.146572</td>\n",
              "      <td>29.877266</td>\n",
              "      <td>41.725552</td>\n",
              "      <td>13.155191</td>\n",
              "      <td>34.982329</td>\n",
              "      <td>0.770213</td>\n",
              "      <td>5.000000</td>\n",
              "      <td>10.000000</td>\n",
              "      <td>5.000000</td>\n",
              "    </tr>\n",
              "    <tr>\n",
              "      <th>25%</th>\n",
              "      <td>17.915142</td>\n",
              "      <td>707.799164</td>\n",
              "      <td>6.245973</td>\n",
              "      <td>7.017129</td>\n",
              "      <td>265.438161</td>\n",
              "      <td>53.009874</td>\n",
              "      <td>117.631453</td>\n",
              "      <td>57.627430</td>\n",
              "      <td>107.263425</td>\n",
              "      <td>11.978009</td>\n",
              "      <td>10.000000</td>\n",
              "      <td>10.000000</td>\n",
              "      <td>10.000000</td>\n",
              "    </tr>\n",
              "    <tr>\n",
              "      <th>50%</th>\n",
              "      <td>19.929578</td>\n",
              "      <td>846.623453</td>\n",
              "      <td>6.466286</td>\n",
              "      <td>8.985917</td>\n",
              "      <td>385.299681</td>\n",
              "      <td>63.248496</td>\n",
              "      <td>140.524941</td>\n",
              "      <td>87.731849</td>\n",
              "      <td>163.891242</td>\n",
              "      <td>21.232615</td>\n",
              "      <td>10.000000</td>\n",
              "      <td>10.000000</td>\n",
              "      <td>10.000000</td>\n",
              "    </tr>\n",
              "    <tr>\n",
              "      <th>75%</th>\n",
              "      <td>22.936714</td>\n",
              "      <td>1109.157262</td>\n",
              "      <td>6.697254</td>\n",
              "      <td>12.019180</td>\n",
              "      <td>508.211962</td>\n",
              "      <td>89.996774</td>\n",
              "      <td>160.186895</td>\n",
              "      <td>145.298926</td>\n",
              "      <td>223.236991</td>\n",
              "      <td>28.812111</td>\n",
              "      <td>10.000000</td>\n",
              "      <td>10.000000</td>\n",
              "      <td>10.000000</td>\n",
              "    </tr>\n",
              "    <tr>\n",
              "      <th>max</th>\n",
              "      <td>39.913892</td>\n",
              "      <td>2508.052849</td>\n",
              "      <td>8.023210</td>\n",
              "      <td>15.918024</td>\n",
              "      <td>985.186247</td>\n",
              "      <td>99.927439</td>\n",
              "      <td>409.639573</td>\n",
              "      <td>360.043619</td>\n",
              "      <td>579.953931</td>\n",
              "      <td>66.619242</td>\n",
              "      <td>75.000000</td>\n",
              "      <td>37.500000</td>\n",
              "      <td>37.500000</td>\n",
              "    </tr>\n",
              "  </tbody>\n",
              "</table>\n",
              "</div>"
            ],
            "text/plain": [
              "        Temperature      Rainfall            pH   Light_Hours  \\\n",
              "count  15400.000000  15400.000000  15400.000000  15400.000000   \n",
              "mean      20.801671    948.814222      6.473372      9.459365   \n",
              "std        4.415164    340.884493      0.449111      2.588466   \n",
              "min        9.355908    409.927161      4.888871      5.044913   \n",
              "25%       17.915142    707.799164      6.245973      7.017129   \n",
              "50%       19.929578    846.623453      6.466286      8.985917   \n",
              "75%       22.936714   1109.157262      6.697254     12.019180   \n",
              "max       39.913892   2508.052849      8.023210     15.918024   \n",
              "\n",
              "       Light_Intensity            Rh      Nitrogen    Phosphorus  \\\n",
              "count     15400.000000  15400.000000  15400.000000  15400.000000   \n",
              "mean        398.048832     67.117251    142.769483    107.659893   \n",
              "std         190.512173     19.005233     58.524592     72.778284   \n",
              "min          69.146572     29.877266     41.725552     13.155191   \n",
              "25%         265.438161     53.009874    117.631453     57.627430   \n",
              "50%         385.299681     63.248496    140.524941     87.731849   \n",
              "75%         508.211962     89.996774    160.186895    145.298926   \n",
              "max         985.186247     99.927439    409.639573    360.043619   \n",
              "\n",
              "          Potassium         Yield       N_Ratio       P_Ratio       K_Ratio  \n",
              "count  15400.000000  15400.000000  15400.000000  15400.000000  15400.000000  \n",
              "mean     180.481105     22.749990     12.636364     11.704545     12.477273  \n",
              "std      103.989340     15.541414     14.028173      5.761853      7.805376  \n",
              "min       34.982329      0.770213      5.000000     10.000000      5.000000  \n",
              "25%      107.263425     11.978009     10.000000     10.000000     10.000000  \n",
              "50%      163.891242     21.232615     10.000000     10.000000     10.000000  \n",
              "75%      223.236991     28.812111     10.000000     10.000000     10.000000  \n",
              "max      579.953931     66.619242     75.000000     37.500000     37.500000  "
            ]
          },
          "execution_count": 5,
          "metadata": {},
          "output_type": "execute_result"
        }
      ],
      "source": [
        "df.describe()"
      ]
    },
    {
      "cell_type": "code",
      "execution_count": 6,
      "metadata": {
        "colab": {
          "base_uri": "https://localhost:8080/",
          "height": 680
        },
        "id": "KnH4hvzBWXVC",
        "outputId": "670c1242-3be7-43b3-ae7b-1355324382cd"
      },
      "outputs": [
        {
          "data": {
            "text/plain": [
              "Name               0\n",
              "Fertility          0\n",
              "Photoperiod        0\n",
              "Temperature        0\n",
              "Rainfall           0\n",
              "pH                 0\n",
              "Light_Hours        0\n",
              "Light_Intensity    0\n",
              "Rh                 0\n",
              "Nitrogen           0\n",
              "Phosphorus         0\n",
              "Potassium          0\n",
              "Yield              0\n",
              "Category_pH        0\n",
              "Soil_Type          0\n",
              "Season             0\n",
              "N_Ratio            0\n",
              "P_Ratio            0\n",
              "K_Ratio            0\n",
              "dtype: int64"
            ]
          },
          "execution_count": 6,
          "metadata": {},
          "output_type": "execute_result"
        }
      ],
      "source": [
        "df.isnull().sum()"
      ]
    },
    {
      "cell_type": "code",
      "execution_count": 7,
      "metadata": {
        "colab": {
          "base_uri": "https://localhost:8080/"
        },
        "id": "BHNZf4fJWzt4",
        "outputId": "396642f3-37e1-4ed9-9118-33b54ff63bb8"
      },
      "outputs": [
        {
          "name": "stdout",
          "output_type": "stream",
          "text": [
            "['Strawberry' 'Watermelon' 'Grapes' 'Arugula' 'Beet' 'Chard' 'Cress'\n",
            " 'Endive' 'Kale' 'Lettuce' 'Radicchio' 'Spinach' 'Tomatoes' 'Eggplants'\n",
            " 'Asparagus' 'Chilli Peppers' 'Cabbage' 'Cucumbers' 'Potatoes'\n",
            " 'Cauliflowers' 'Broccoli' 'Green Peas']\n"
          ]
        }
      ],
      "source": [
        "unique_names = df['Name'].unique()\n",
        "print(unique_names)"
      ]
    },
    {
      "cell_type": "code",
      "execution_count": 8,
      "metadata": {
        "id": "v6tAeVQ7W0xI"
      },
      "outputs": [],
      "source": [
        "df1 = df.drop(columns=['Name'])"
      ]
    },
    {
      "cell_type": "code",
      "execution_count": 9,
      "metadata": {
        "colab": {
          "base_uri": "https://localhost:8080/"
        },
        "id": "jv4vs0vJXkGT",
        "outputId": "bfc6f12e-eace-4128-a2cd-6d21542dd229"
      },
      "outputs": [
        {
          "data": {
            "text/plain": [
              "Index(['Fertility', 'Photoperiod', 'Temperature', 'Rainfall', 'pH',\n",
              "       'Light_Hours', 'Light_Intensity', 'Rh', 'Nitrogen', 'Phosphorus',\n",
              "       'Potassium', 'Yield', 'Category_pH', 'Soil_Type', 'Season', 'N_Ratio',\n",
              "       'P_Ratio', 'K_Ratio'],\n",
              "      dtype='object')"
            ]
          },
          "execution_count": 9,
          "metadata": {},
          "output_type": "execute_result"
        }
      ],
      "source": [
        "df1.columns"
      ]
    },
    {
      "cell_type": "code",
      "execution_count": 10,
      "metadata": {
        "colab": {
          "base_uri": "https://localhost:8080/",
          "height": 261
        },
        "id": "NTg-T3jQXmSt",
        "outputId": "a84e94a0-6b9f-46ba-f6e0-9aff931dc15c"
      },
      "outputs": [
        {
          "data": {
            "text/html": [
              "<div>\n",
              "<style scoped>\n",
              "    .dataframe tbody tr th:only-of-type {\n",
              "        vertical-align: middle;\n",
              "    }\n",
              "\n",
              "    .dataframe tbody tr th {\n",
              "        vertical-align: top;\n",
              "    }\n",
              "\n",
              "    .dataframe thead th {\n",
              "        text-align: right;\n",
              "    }\n",
              "</style>\n",
              "<table border=\"1\" class=\"dataframe\">\n",
              "  <thead>\n",
              "    <tr style=\"text-align: right;\">\n",
              "      <th></th>\n",
              "      <th>Fertility</th>\n",
              "      <th>Photoperiod</th>\n",
              "      <th>Temperature</th>\n",
              "      <th>Rainfall</th>\n",
              "      <th>pH</th>\n",
              "      <th>Light_Hours</th>\n",
              "      <th>Light_Intensity</th>\n",
              "      <th>Rh</th>\n",
              "      <th>Nitrogen</th>\n",
              "      <th>Phosphorus</th>\n",
              "      <th>Potassium</th>\n",
              "      <th>Yield</th>\n",
              "      <th>Category_pH</th>\n",
              "      <th>Soil_Type</th>\n",
              "      <th>Season</th>\n",
              "      <th>N_Ratio</th>\n",
              "      <th>P_Ratio</th>\n",
              "      <th>K_Ratio</th>\n",
              "    </tr>\n",
              "  </thead>\n",
              "  <tbody>\n",
              "    <tr>\n",
              "      <th>0</th>\n",
              "      <td>Moderate</td>\n",
              "      <td>Day Neutral</td>\n",
              "      <td>20.887923</td>\n",
              "      <td>747.860765</td>\n",
              "      <td>6.571548</td>\n",
              "      <td>13.091483</td>\n",
              "      <td>533.762876</td>\n",
              "      <td>91.197196</td>\n",
              "      <td>170.800381</td>\n",
              "      <td>118.670058</td>\n",
              "      <td>243.331211</td>\n",
              "      <td>20.369555</td>\n",
              "      <td>low_acidic</td>\n",
              "      <td>Loam</td>\n",
              "      <td>Summer</td>\n",
              "      <td>10.0</td>\n",
              "      <td>10.0</td>\n",
              "      <td>10.0</td>\n",
              "    </tr>\n",
              "    <tr>\n",
              "      <th>1</th>\n",
              "      <td>Moderate</td>\n",
              "      <td>Day Neutral</td>\n",
              "      <td>18.062721</td>\n",
              "      <td>711.104329</td>\n",
              "      <td>6.251806</td>\n",
              "      <td>13.063016</td>\n",
              "      <td>505.789101</td>\n",
              "      <td>91.939623</td>\n",
              "      <td>179.290364</td>\n",
              "      <td>121.020244</td>\n",
              "      <td>246.910378</td>\n",
              "      <td>20.402751</td>\n",
              "      <td>low_acidic</td>\n",
              "      <td>Loam</td>\n",
              "      <td>Spring</td>\n",
              "      <td>10.0</td>\n",
              "      <td>10.0</td>\n",
              "      <td>10.0</td>\n",
              "    </tr>\n",
              "    <tr>\n",
              "      <th>2</th>\n",
              "      <td>Moderate</td>\n",
              "      <td>Short Day Period</td>\n",
              "      <td>16.776782</td>\n",
              "      <td>774.038247</td>\n",
              "      <td>6.346916</td>\n",
              "      <td>12.945927</td>\n",
              "      <td>512.985617</td>\n",
              "      <td>91.387286</td>\n",
              "      <td>181.440732</td>\n",
              "      <td>116.936806</td>\n",
              "      <td>242.699601</td>\n",
              "      <td>19.158847</td>\n",
              "      <td>low_acidic</td>\n",
              "      <td>Loam</td>\n",
              "      <td>Summer</td>\n",
              "      <td>10.0</td>\n",
              "      <td>10.0</td>\n",
              "      <td>10.0</td>\n",
              "    </tr>\n",
              "    <tr>\n",
              "      <th>3</th>\n",
              "      <td>Moderate</td>\n",
              "      <td>Short Day Period</td>\n",
              "      <td>14.281000</td>\n",
              "      <td>665.633506</td>\n",
              "      <td>6.259598</td>\n",
              "      <td>13.318922</td>\n",
              "      <td>484.860067</td>\n",
              "      <td>91.254598</td>\n",
              "      <td>176.165282</td>\n",
              "      <td>122.233153</td>\n",
              "      <td>237.096892</td>\n",
              "      <td>20.265745</td>\n",
              "      <td>low_acidic</td>\n",
              "      <td>Loam</td>\n",
              "      <td>Summer</td>\n",
              "      <td>10.0</td>\n",
              "      <td>10.0</td>\n",
              "      <td>10.0</td>\n",
              "    </tr>\n",
              "    <tr>\n",
              "      <th>4</th>\n",
              "      <td>Moderate</td>\n",
              "      <td>Day Neutral</td>\n",
              "      <td>21.444490</td>\n",
              "      <td>806.531455</td>\n",
              "      <td>6.384368</td>\n",
              "      <td>13.312915</td>\n",
              "      <td>512.747307</td>\n",
              "      <td>92.354829</td>\n",
              "      <td>182.935334</td>\n",
              "      <td>126.088234</td>\n",
              "      <td>243.880364</td>\n",
              "      <td>20.397336</td>\n",
              "      <td>low_acidic</td>\n",
              "      <td>Loam</td>\n",
              "      <td>Spring</td>\n",
              "      <td>10.0</td>\n",
              "      <td>10.0</td>\n",
              "      <td>10.0</td>\n",
              "    </tr>\n",
              "  </tbody>\n",
              "</table>\n",
              "</div>"
            ],
            "text/plain": [
              "  Fertility       Photoperiod  Temperature    Rainfall        pH  Light_Hours  \\\n",
              "0  Moderate       Day Neutral    20.887923  747.860765  6.571548    13.091483   \n",
              "1  Moderate       Day Neutral    18.062721  711.104329  6.251806    13.063016   \n",
              "2  Moderate  Short Day Period    16.776782  774.038247  6.346916    12.945927   \n",
              "3  Moderate  Short Day Period    14.281000  665.633506  6.259598    13.318922   \n",
              "4  Moderate       Day Neutral    21.444490  806.531455  6.384368    13.312915   \n",
              "\n",
              "   Light_Intensity         Rh    Nitrogen  Phosphorus   Potassium      Yield  \\\n",
              "0       533.762876  91.197196  170.800381  118.670058  243.331211  20.369555   \n",
              "1       505.789101  91.939623  179.290364  121.020244  246.910378  20.402751   \n",
              "2       512.985617  91.387286  181.440732  116.936806  242.699601  19.158847   \n",
              "3       484.860067  91.254598  176.165282  122.233153  237.096892  20.265745   \n",
              "4       512.747307  92.354829  182.935334  126.088234  243.880364  20.397336   \n",
              "\n",
              "  Category_pH Soil_Type  Season  N_Ratio  P_Ratio  K_Ratio  \n",
              "0  low_acidic      Loam  Summer     10.0     10.0     10.0  \n",
              "1  low_acidic      Loam  Spring     10.0     10.0     10.0  \n",
              "2  low_acidic      Loam  Summer     10.0     10.0     10.0  \n",
              "3  low_acidic      Loam  Summer     10.0     10.0     10.0  \n",
              "4  low_acidic      Loam  Spring     10.0     10.0     10.0  "
            ]
          },
          "execution_count": 10,
          "metadata": {},
          "output_type": "execute_result"
        }
      ],
      "source": [
        "df1.head()"
      ]
    },
    {
      "cell_type": "code",
      "execution_count": 11,
      "metadata": {
        "id": "AaBTxqptc-qj"
      },
      "outputs": [],
      "source": [
        "from sklearn.model_selection import train_test_split"
      ]
    },
    {
      "cell_type": "code",
      "execution_count": 12,
      "metadata": {
        "id": "oh4yT-IOdR-s"
      },
      "outputs": [],
      "source": [
        "X = df1.drop(columns=['Fertility'])\n",
        "y = df1['Fertility']"
      ]
    },
    {
      "cell_type": "code",
      "execution_count": 13,
      "metadata": {
        "id": "Ebcx0HyYduFV"
      },
      "outputs": [],
      "source": [
        "X_train, X_test, y_train, y_test = train_test_split(X, y, test_size=0.2, random_state=42)"
      ]
    },
    {
      "cell_type": "code",
      "execution_count": 14,
      "metadata": {
        "colab": {
          "base_uri": "https://localhost:8080/",
          "height": 600
        },
        "id": "X4IllDFCdy3T",
        "outputId": "fdaf2b4c-57b8-4700-a135-8e03ba425669"
      },
      "outputs": [
        {
          "data": {
            "text/html": [
              "<div>\n",
              "<style scoped>\n",
              "    .dataframe tbody tr th:only-of-type {\n",
              "        vertical-align: middle;\n",
              "    }\n",
              "\n",
              "    .dataframe tbody tr th {\n",
              "        vertical-align: top;\n",
              "    }\n",
              "\n",
              "    .dataframe thead th {\n",
              "        text-align: right;\n",
              "    }\n",
              "</style>\n",
              "<table border=\"1\" class=\"dataframe\">\n",
              "  <thead>\n",
              "    <tr style=\"text-align: right;\">\n",
              "      <th></th>\n",
              "      <th>Photoperiod</th>\n",
              "      <th>Temperature</th>\n",
              "      <th>Rainfall</th>\n",
              "      <th>pH</th>\n",
              "      <th>Light_Hours</th>\n",
              "      <th>Light_Intensity</th>\n",
              "      <th>Rh</th>\n",
              "      <th>Nitrogen</th>\n",
              "      <th>Phosphorus</th>\n",
              "      <th>Potassium</th>\n",
              "      <th>Yield</th>\n",
              "      <th>Category_pH</th>\n",
              "      <th>Soil_Type</th>\n",
              "      <th>Season</th>\n",
              "      <th>N_Ratio</th>\n",
              "      <th>P_Ratio</th>\n",
              "      <th>K_Ratio</th>\n",
              "    </tr>\n",
              "  </thead>\n",
              "  <tbody>\n",
              "    <tr>\n",
              "      <th>424</th>\n",
              "      <td>Short Day Period</td>\n",
              "      <td>16.139619</td>\n",
              "      <td>827.909983</td>\n",
              "      <td>6.455588</td>\n",
              "      <td>12.381568</td>\n",
              "      <td>493.808790</td>\n",
              "      <td>92.988752</td>\n",
              "      <td>156.982563</td>\n",
              "      <td>115.519196</td>\n",
              "      <td>239.895923</td>\n",
              "      <td>20.678354</td>\n",
              "      <td>low_acidic</td>\n",
              "      <td>Loam</td>\n",
              "      <td>Spring</td>\n",
              "      <td>10.0</td>\n",
              "      <td>10.0</td>\n",
              "      <td>10.0</td>\n",
              "    </tr>\n",
              "    <tr>\n",
              "      <th>554</th>\n",
              "      <td>Short Day Period</td>\n",
              "      <td>16.095923</td>\n",
              "      <td>745.304283</td>\n",
              "      <td>6.396758</td>\n",
              "      <td>13.259843</td>\n",
              "      <td>483.143230</td>\n",
              "      <td>92.552765</td>\n",
              "      <td>168.882553</td>\n",
              "      <td>121.405046</td>\n",
              "      <td>248.124891</td>\n",
              "      <td>20.476015</td>\n",
              "      <td>low_acidic</td>\n",
              "      <td>Loam</td>\n",
              "      <td>Summer</td>\n",
              "      <td>10.0</td>\n",
              "      <td>10.0</td>\n",
              "      <td>10.0</td>\n",
              "    </tr>\n",
              "    <tr>\n",
              "      <th>2992</th>\n",
              "      <td>Short Day Period</td>\n",
              "      <td>17.567746</td>\n",
              "      <td>777.028881</td>\n",
              "      <td>6.684533</td>\n",
              "      <td>6.531650</td>\n",
              "      <td>119.519391</td>\n",
              "      <td>99.282144</td>\n",
              "      <td>113.214638</td>\n",
              "      <td>166.119807</td>\n",
              "      <td>87.607590</td>\n",
              "      <td>57.250880</td>\n",
              "      <td>neutral</td>\n",
              "      <td>Sandy Loam</td>\n",
              "      <td>Fall</td>\n",
              "      <td>75.0</td>\n",
              "      <td>37.5</td>\n",
              "      <td>37.5</td>\n",
              "    </tr>\n",
              "    <tr>\n",
              "      <th>1954</th>\n",
              "      <td>Short Day Period</td>\n",
              "      <td>25.885236</td>\n",
              "      <td>797.178426</td>\n",
              "      <td>6.123713</td>\n",
              "      <td>12.400949</td>\n",
              "      <td>580.666718</td>\n",
              "      <td>92.462504</td>\n",
              "      <td>142.529850</td>\n",
              "      <td>64.410289</td>\n",
              "      <td>137.884145</td>\n",
              "      <td>10.947762</td>\n",
              "      <td>neutral</td>\n",
              "      <td>Loam</td>\n",
              "      <td>Fall</td>\n",
              "      <td>10.0</td>\n",
              "      <td>10.0</td>\n",
              "      <td>10.0</td>\n",
              "    </tr>\n",
              "    <tr>\n",
              "      <th>13886</th>\n",
              "      <td>Short Day Period</td>\n",
              "      <td>14.574907</td>\n",
              "      <td>882.993920</td>\n",
              "      <td>6.403918</td>\n",
              "      <td>7.249919</td>\n",
              "      <td>378.403894</td>\n",
              "      <td>56.871776</td>\n",
              "      <td>141.491709</td>\n",
              "      <td>71.732548</td>\n",
              "      <td>189.224951</td>\n",
              "      <td>23.588217</td>\n",
              "      <td>neutral</td>\n",
              "      <td>Loam</td>\n",
              "      <td>Fall</td>\n",
              "      <td>10.0</td>\n",
              "      <td>10.0</td>\n",
              "      <td>10.0</td>\n",
              "    </tr>\n",
              "    <tr>\n",
              "      <th>...</th>\n",
              "      <td>...</td>\n",
              "      <td>...</td>\n",
              "      <td>...</td>\n",
              "      <td>...</td>\n",
              "      <td>...</td>\n",
              "      <td>...</td>\n",
              "      <td>...</td>\n",
              "      <td>...</td>\n",
              "      <td>...</td>\n",
              "      <td>...</td>\n",
              "      <td>...</td>\n",
              "      <td>...</td>\n",
              "      <td>...</td>\n",
              "      <td>...</td>\n",
              "      <td>...</td>\n",
              "      <td>...</td>\n",
              "      <td>...</td>\n",
              "    </tr>\n",
              "    <tr>\n",
              "      <th>5191</th>\n",
              "      <td>Short Day Period</td>\n",
              "      <td>19.574117</td>\n",
              "      <td>1230.045956</td>\n",
              "      <td>7.448178</td>\n",
              "      <td>13.321016</td>\n",
              "      <td>253.793629</td>\n",
              "      <td>46.016981</td>\n",
              "      <td>56.534808</td>\n",
              "      <td>138.253775</td>\n",
              "      <td>191.705731</td>\n",
              "      <td>19.513810</td>\n",
              "      <td>low_alkaline</td>\n",
              "      <td>Loam</td>\n",
              "      <td>Spring</td>\n",
              "      <td>22.0</td>\n",
              "      <td>12.0</td>\n",
              "      <td>13.0</td>\n",
              "    </tr>\n",
              "    <tr>\n",
              "      <th>13418</th>\n",
              "      <td>Short Day Period</td>\n",
              "      <td>16.700961</td>\n",
              "      <td>778.883111</td>\n",
              "      <td>6.762474</td>\n",
              "      <td>6.850689</td>\n",
              "      <td>416.030016</td>\n",
              "      <td>51.318645</td>\n",
              "      <td>145.004944</td>\n",
              "      <td>66.576330</td>\n",
              "      <td>184.701703</td>\n",
              "      <td>23.718024</td>\n",
              "      <td>low_acidic</td>\n",
              "      <td>Loam</td>\n",
              "      <td>Fall</td>\n",
              "      <td>10.0</td>\n",
              "      <td>10.0</td>\n",
              "      <td>10.0</td>\n",
              "    </tr>\n",
              "    <tr>\n",
              "      <th>5390</th>\n",
              "      <td>Day Neutral</td>\n",
              "      <td>18.886594</td>\n",
              "      <td>1274.759805</td>\n",
              "      <td>7.123597</td>\n",
              "      <td>13.476777</td>\n",
              "      <td>251.964669</td>\n",
              "      <td>47.935455</td>\n",
              "      <td>52.762010</td>\n",
              "      <td>124.812177</td>\n",
              "      <td>168.296870</td>\n",
              "      <td>17.923912</td>\n",
              "      <td>low_alkaline</td>\n",
              "      <td>Loam</td>\n",
              "      <td>Spring</td>\n",
              "      <td>22.0</td>\n",
              "      <td>12.0</td>\n",
              "      <td>13.0</td>\n",
              "    </tr>\n",
              "    <tr>\n",
              "      <th>860</th>\n",
              "      <td>Short Day Period</td>\n",
              "      <td>32.120793</td>\n",
              "      <td>612.767640</td>\n",
              "      <td>6.154618</td>\n",
              "      <td>6.990060</td>\n",
              "      <td>280.597103</td>\n",
              "      <td>90.103716</td>\n",
              "      <td>84.075067</td>\n",
              "      <td>37.623650</td>\n",
              "      <td>63.912942</td>\n",
              "      <td>48.650677</td>\n",
              "      <td>low_acidic</td>\n",
              "      <td>Sandy Loam</td>\n",
              "      <td>Spring</td>\n",
              "      <td>10.0</td>\n",
              "      <td>10.0</td>\n",
              "      <td>10.0</td>\n",
              "    </tr>\n",
              "    <tr>\n",
              "      <th>7270</th>\n",
              "      <td>Short Day Period</td>\n",
              "      <td>18.880043</td>\n",
              "      <td>2137.271788</td>\n",
              "      <td>6.305324</td>\n",
              "      <td>6.687839</td>\n",
              "      <td>211.917697</td>\n",
              "      <td>96.184278</td>\n",
              "      <td>127.003503</td>\n",
              "      <td>37.836619</td>\n",
              "      <td>92.146778</td>\n",
              "      <td>3.087192</td>\n",
              "      <td>low_acidic</td>\n",
              "      <td>Loam</td>\n",
              "      <td>Spring</td>\n",
              "      <td>13.0</td>\n",
              "      <td>13.0</td>\n",
              "      <td>13.0</td>\n",
              "    </tr>\n",
              "  </tbody>\n",
              "</table>\n",
              "<p>12320 rows × 17 columns</p>\n",
              "</div>"
            ],
            "text/plain": [
              "            Photoperiod  Temperature     Rainfall        pH  Light_Hours  \\\n",
              "424    Short Day Period    16.139619   827.909983  6.455588    12.381568   \n",
              "554    Short Day Period    16.095923   745.304283  6.396758    13.259843   \n",
              "2992   Short Day Period    17.567746   777.028881  6.684533     6.531650   \n",
              "1954   Short Day Period    25.885236   797.178426  6.123713    12.400949   \n",
              "13886  Short Day Period    14.574907   882.993920  6.403918     7.249919   \n",
              "...                 ...          ...          ...       ...          ...   \n",
              "5191   Short Day Period    19.574117  1230.045956  7.448178    13.321016   \n",
              "13418  Short Day Period    16.700961   778.883111  6.762474     6.850689   \n",
              "5390        Day Neutral    18.886594  1274.759805  7.123597    13.476777   \n",
              "860    Short Day Period    32.120793   612.767640  6.154618     6.990060   \n",
              "7270   Short Day Period    18.880043  2137.271788  6.305324     6.687839   \n",
              "\n",
              "       Light_Intensity         Rh    Nitrogen  Phosphorus   Potassium  \\\n",
              "424         493.808790  92.988752  156.982563  115.519196  239.895923   \n",
              "554         483.143230  92.552765  168.882553  121.405046  248.124891   \n",
              "2992        119.519391  99.282144  113.214638  166.119807   87.607590   \n",
              "1954        580.666718  92.462504  142.529850   64.410289  137.884145   \n",
              "13886       378.403894  56.871776  141.491709   71.732548  189.224951   \n",
              "...                ...        ...         ...         ...         ...   \n",
              "5191        253.793629  46.016981   56.534808  138.253775  191.705731   \n",
              "13418       416.030016  51.318645  145.004944   66.576330  184.701703   \n",
              "5390        251.964669  47.935455   52.762010  124.812177  168.296870   \n",
              "860         280.597103  90.103716   84.075067   37.623650   63.912942   \n",
              "7270        211.917697  96.184278  127.003503   37.836619   92.146778   \n",
              "\n",
              "           Yield   Category_pH   Soil_Type  Season  N_Ratio  P_Ratio  K_Ratio  \n",
              "424    20.678354    low_acidic        Loam  Spring     10.0     10.0     10.0  \n",
              "554    20.476015    low_acidic        Loam  Summer     10.0     10.0     10.0  \n",
              "2992   57.250880       neutral  Sandy Loam    Fall     75.0     37.5     37.5  \n",
              "1954   10.947762       neutral        Loam    Fall     10.0     10.0     10.0  \n",
              "13886  23.588217       neutral        Loam    Fall     10.0     10.0     10.0  \n",
              "...          ...           ...         ...     ...      ...      ...      ...  \n",
              "5191   19.513810  low_alkaline        Loam  Spring     22.0     12.0     13.0  \n",
              "13418  23.718024    low_acidic        Loam    Fall     10.0     10.0     10.0  \n",
              "5390   17.923912  low_alkaline        Loam  Spring     22.0     12.0     13.0  \n",
              "860    48.650677    low_acidic  Sandy Loam  Spring     10.0     10.0     10.0  \n",
              "7270    3.087192    low_acidic        Loam  Spring     13.0     13.0     13.0  \n",
              "\n",
              "[12320 rows x 17 columns]"
            ]
          },
          "execution_count": 14,
          "metadata": {},
          "output_type": "execute_result"
        }
      ],
      "source": [
        "X_train"
      ]
    },
    {
      "cell_type": "code",
      "execution_count": 15,
      "metadata": {
        "colab": {
          "base_uri": "https://localhost:8080/"
        },
        "id": "c5AZ9_kMd0yC",
        "outputId": "c319a2bc-dcfc-4c4e-9736-bd8c0fbf68c8"
      },
      "outputs": [
        {
          "data": {
            "text/plain": [
              "array(['Moderate', 'High'], dtype=object)"
            ]
          },
          "execution_count": 15,
          "metadata": {},
          "output_type": "execute_result"
        }
      ],
      "source": [
        "y_train.unique()"
      ]
    },
    {
      "cell_type": "code",
      "execution_count": 16,
      "metadata": {
        "colab": {
          "base_uri": "https://localhost:8080/"
        },
        "id": "R2pNT52Jd5Ii",
        "outputId": "0363a22c-0be8-489b-f58a-828f2829b878"
      },
      "outputs": [
        {
          "name": "stdout",
          "output_type": "stream",
          "text": [
            "<class 'pandas.core.frame.DataFrame'>\n",
            "Index: 12320 entries, 424 to 7270\n",
            "Data columns (total 17 columns):\n",
            " #   Column           Non-Null Count  Dtype  \n",
            "---  ------           --------------  -----  \n",
            " 0   Photoperiod      12320 non-null  object \n",
            " 1   Temperature      12320 non-null  float64\n",
            " 2   Rainfall         12320 non-null  float64\n",
            " 3   pH               12320 non-null  float64\n",
            " 4   Light_Hours      12320 non-null  float64\n",
            " 5   Light_Intensity  12320 non-null  float64\n",
            " 6   Rh               12320 non-null  float64\n",
            " 7   Nitrogen         12320 non-null  float64\n",
            " 8   Phosphorus       12320 non-null  float64\n",
            " 9   Potassium        12320 non-null  float64\n",
            " 10  Yield            12320 non-null  float64\n",
            " 11  Category_pH      12320 non-null  object \n",
            " 12  Soil_Type        12320 non-null  object \n",
            " 13  Season           12320 non-null  object \n",
            " 14  N_Ratio          12320 non-null  float64\n",
            " 15  P_Ratio          12320 non-null  float64\n",
            " 16  K_Ratio          12320 non-null  float64\n",
            "dtypes: float64(13), object(4)\n",
            "memory usage: 1.7+ MB\n"
          ]
        }
      ],
      "source": [
        "X_train.info()"
      ]
    },
    {
      "cell_type": "code",
      "execution_count": 17,
      "metadata": {
        "colab": {
          "base_uri": "https://localhost:8080/"
        },
        "id": "BezmrNBGeKzx",
        "outputId": "419a4519-c251-4fa6-b680-15bc1ec50d30"
      },
      "outputs": [
        {
          "data": {
            "text/plain": [
              "array(['Short Day Period', 'Day Neutral', 'Long Day Period'], dtype=object)"
            ]
          },
          "execution_count": 17,
          "metadata": {},
          "output_type": "execute_result"
        }
      ],
      "source": [
        "pu = X_train['Photoperiod'].unique()\n",
        "pu"
      ]
    },
    {
      "cell_type": "code",
      "execution_count": 18,
      "metadata": {
        "colab": {
          "base_uri": "https://localhost:8080/"
        },
        "id": "bTfeRzwWea4R",
        "outputId": "0bb56cfc-3856-4074-81ab-2d63af732ce1"
      },
      "outputs": [
        {
          "data": {
            "text/plain": [
              "array(['low_acidic', 'neutral', 'low_alkaline'], dtype=object)"
            ]
          },
          "execution_count": 18,
          "metadata": {},
          "output_type": "execute_result"
        }
      ],
      "source": [
        "cp  = X_train['Category_pH'].unique()\n",
        "cp"
      ]
    },
    {
      "cell_type": "code",
      "execution_count": 19,
      "metadata": {
        "colab": {
          "base_uri": "https://localhost:8080/"
        },
        "id": "PUnYKvhgepJO",
        "outputId": "85b549c5-fc57-4cc7-d133-be2d8da6e318"
      },
      "outputs": [
        {
          "data": {
            "text/plain": [
              "array(['Spring', 'Summer', 'Fall', 'Winter'], dtype=object)"
            ]
          },
          "execution_count": 19,
          "metadata": {},
          "output_type": "execute_result"
        }
      ],
      "source": [
        "s = X_train['Season'].unique()\n",
        "s"
      ]
    },
    {
      "cell_type": "code",
      "execution_count": 20,
      "metadata": {
        "id": "m_kk8s-cewl9"
      },
      "outputs": [],
      "source": [
        "X_train.drop(columns=['Season'], inplace=True)\n",
        "X_test.drop(columns=['Season'], inplace=True)"
      ]
    },
    {
      "cell_type": "code",
      "execution_count": 21,
      "metadata": {
        "colab": {
          "base_uri": "https://localhost:8080/"
        },
        "id": "DYIVJKPkgUin",
        "outputId": "855127d7-305a-4550-ea9e-0763459a810c"
      },
      "outputs": [
        {
          "data": {
            "text/plain": [
              "array(['Loam', 'Sandy Loam', 'Sandy'], dtype=object)"
            ]
          },
          "execution_count": 21,
          "metadata": {},
          "output_type": "execute_result"
        }
      ],
      "source": [
        "st = X_train['Soil_Type'].unique()\n",
        "st"
      ]
    },
    {
      "cell_type": "code",
      "execution_count": 22,
      "metadata": {
        "id": "7O3rqmNnj4NH"
      },
      "outputs": [],
      "source": [
        "X_train.drop(columns=['Soil_Type'], inplace=True)\n",
        "X_test.drop(columns=['Soil_Type'], inplace=True)"
      ]
    },
    {
      "cell_type": "code",
      "execution_count": 23,
      "metadata": {
        "id": "gjgxo3Adgh_h"
      },
      "outputs": [],
      "source": [
        "from sklearn.preprocessing import LabelEncoder\n",
        "from sklearn.preprocessing import OrdinalEncoder\n"
      ]
    },
    {
      "cell_type": "code",
      "execution_count": 24,
      "metadata": {
        "id": "M7gknZS_gtv3"
      },
      "outputs": [],
      "source": [
        "from sklearn.compose import ColumnTransformer"
      ]
    },
    {
      "cell_type": "code",
      "execution_count": 25,
      "metadata": {
        "id": "Q7VLngzMiQju"
      },
      "outputs": [],
      "source": [
        "ordinal_columns = {\n",
        "    'Photoperiod': ['Short Day Period', 'Day Neutral', 'Long Day Period'],\n",
        "    'Category_pH': ['low_acidic', 'neutral', 'low_alkaline']\n",
        "}\n"
      ]
    },
    {
      "cell_type": "code",
      "execution_count": null,
      "metadata": {
        "id": "XrDZoeaNjXF-"
      },
      "outputs": [],
      "source": [
        "\n",
        "import pandas as pd\n",
        "# Create the column transformer\n",
        "transformer = ColumnTransformer(\n",
        "    transformers=[\n",
        "        ('ordinal', OrdinalEncoder(categories=list(ordinal_columns.values())), list(ordinal_columns.keys())),\n",
        "    ],\n",
        "    remainder='passthrough'  \n",
        ")\n",
        "\n",
        "# Fit and transform the training data\n",
        "X_train_transformed = transformer.fit_transform(X_train)\n",
        "\n",
        "# Transform the testing data (using the fitted transformer)\n",
        "X_test_transformed = transformer.transform(X_test)\n",
        "\n",
        "\n"
      ]
    },
    {
      "cell_type": "code",
      "execution_count": 27,
      "metadata": {
        "colab": {
          "base_uri": "https://localhost:8080/"
        },
        "id": "UnJaQ3r_jfJD",
        "outputId": "fccfb0a2-f4c6-41a2-c402-41e28cd61f06"
      },
      "outputs": [
        {
          "name": "stdout",
          "output_type": "stream",
          "text": [
            "<class 'numpy.ndarray'>\n"
          ]
        }
      ],
      "source": [
        "print(type(X_train_transformed))"
      ]
    },
    {
      "cell_type": "code",
      "execution_count": 28,
      "metadata": {
        "colab": {
          "base_uri": "https://localhost:8080/",
          "height": 458
        },
        "id": "PcZWHzQ2koZP",
        "outputId": "5844f004-f81e-4321-9f6c-0f34e874208c"
      },
      "outputs": [
        {
          "data": {
            "text/plain": [
              "411      Moderate\n",
              "5076         High\n",
              "8146         High\n",
              "8304         High\n",
              "4147         High\n",
              "           ...   \n",
              "5217         High\n",
              "14371        High\n",
              "8568         High\n",
              "1208         High\n",
              "9338         High\n",
              "Name: Fertility, Length: 3080, dtype: object"
            ]
          },
          "execution_count": 28,
          "metadata": {},
          "output_type": "execute_result"
        }
      ],
      "source": [
        "y_test"
      ]
    },
    {
      "cell_type": "code",
      "execution_count": null,
      "metadata": {
        "colab": {
          "base_uri": "https://localhost:8080/"
        },
        "id": "3Ymso8K5tHYC",
        "outputId": "df0f2e86-b0fa-49d2-b2a3-04aa91b8ea76"
      },
      "outputs": [
        {
          "name": "stdout",
          "output_type": "stream",
          "text": [
            "[1 1 0 ... 0 0 1]\n"
          ]
        },
        {
          "data": {
            "text/plain": [
              "array([1, 0, 0, ..., 0, 0, 0], shape=(3080,))"
            ]
          },
          "execution_count": 29,
          "metadata": {},
          "output_type": "execute_result"
        }
      ],
      "source": [
        "\n",
        "from sklearn.preprocessing import LabelEncoder\n",
        "\n",
        "# Initialize LabelEncoder\n",
        "label_encoder = LabelEncoder()\n",
        "\n",
        "# Fit and transform the target variable (y_train)\n",
        "y_train_encoded = label_encoder.fit_transform(y_train)\n",
        "\n",
        "# Transform the test target variable (y_test)\n",
        "y_test_encoded = label_encoder.transform(y_test)\n",
        "\n",
        "print(y_train_encoded)\n",
        "y_test_encoded\n"
      ]
    },
    {
      "cell_type": "code",
      "execution_count": 30,
      "metadata": {
        "id": "Kbtg9C_qt6JM"
      },
      "outputs": [],
      "source": [
        "import matplotlib.pyplot as plt\n",
        "import seaborn as sns"
      ]
    },
    {
      "cell_type": "code",
      "execution_count": null,
      "metadata": {
        "colab": {
          "base_uri": "https://localhost:8080/",
          "height": 787
        },
        "id": "4czJIKJauDYU",
        "outputId": "8c48db90-28dc-4e1c-db6d-b11f7a6c414e"
      },
      "outputs": [
        {
          "data": {
            "image/png": "[encoded data removed]",
            "text/plain": [
              "<Figure size 1000x800 with 2 Axes>"
            ]
          },
          "metadata": {},
          "output_type": "display_data"
        }
      ],
      "source": [
        "\n",
        "\n",
        "import pandas as pd\n",
        "import seaborn as sns\n",
        "import matplotlib.pyplot as plt\n",
        "\n",
        "X_train_df = pd.DataFrame(X_train_transformed, columns=list(ordinal_columns.keys()) + list(X_train.columns.drop(list(ordinal_columns.keys()))))\n",
        "\n",
        "# Calculate the correlation matrix\n",
        "correlation_matrix = X_train_df.corr()\n",
        "\n",
        "# Plot the correlation matrix using a heatmap\n",
        "plt.figure(figsize=(10, 8))\n",
        "sns.heatmap(correlation_matrix, annot=True, cmap='coolwarm', fmt=\".2f\")\n",
        "plt.title('Correlation Matrix of X_train')\n",
        "plt.show()\n"
      ]
    },
    {
      "cell_type": "code",
      "execution_count": 32,
      "metadata": {
        "id": "asQGDvZItUMG"
      },
      "outputs": [],
      "source": [
        "import xgboost as xgb"
      ]
    },
    {
      "cell_type": "code",
      "execution_count": null,
      "metadata": {
        "colab": {
          "base_uri": "https://localhost:8080/"
        },
        "id": "HxF6gZv8twpF",
        "outputId": "d40908cd-36fb-4348-bb09-d62f7b935212"
      },
      "outputs": [
        {
          "name": "stdout",
          "output_type": "stream",
          "text": [
            "Accuracy: 1.0\n",
            "              precision    recall  f1-score   support\n",
            "\n",
            "           0       1.00      1.00      1.00      1976\n",
            "           1       1.00      1.00      1.00      1104\n",
            "\n",
            "    accuracy                           1.00      3080\n",
            "   macro avg       1.00      1.00      1.00      3080\n",
            "weighted avg       1.00      1.00      1.00      3080\n",
            "\n"
          ]
        }
      ],
      "source": [
        "\n",
        "model = xgb.XGBClassifier(random_state=42)  \n",
        "model.fit(X_train_transformed, y_train_encoded)\n",
        "\n",
        "# Make predictions on the test set\n",
        "y_pred = model.predict(X_test_transformed)\n",
        "\n",
        "# Evaluate the model (example: accuracy)\n",
        "from sklearn.metrics import accuracy_score\n",
        "accuracy = accuracy_score(y_test_encoded, y_pred)\n",
        "print(f\"Accuracy: {accuracy}\")\n",
        "\n",
        "\n",
        "from sklearn.metrics import classification_report\n",
        "print(classification_report(y_test_encoded, y_pred))\n"
      ]
    },
    {
      "cell_type": "code",
      "execution_count": null,
      "metadata": {
        "colab": {
          "base_uri": "https://localhost:8080/",
          "height": 472
        },
        "id": "_n2eUzdKvX7a",
        "outputId": "5b84ebea-0e81-4b3d-f606-8b26c8b2673c"
      },
      "outputs": [
        {
          "data": {
            "image/png": "[encoded data removed]",
            "text/plain": [
              "<Figure size 640x480 with 1 Axes>"
            ]
          },
          "metadata": {},
          "output_type": "display_data"
        }
      ],
      "source": [
        "\n",
        "from sklearn.metrics import roc_curve, auc\n",
        "import matplotlib.pyplot as plt\n",
        "\n",
        "\n",
        "# Get predicted probabilities for class 0\n",
        "y_pred_proba = model.predict_proba(X_test_transformed)[:, 0]\n",
        "\n",
        "# Compute ROC curve and ROC area for class 0\n",
        "fpr, tpr, _ = roc_curve(y_test_encoded == 0, y_pred_proba)\n",
        "roc_auc = auc(fpr, tpr)\n",
        "\n",
        "# Plot ROC curve for class 0\n",
        "plt.figure()\n",
        "plt.plot(fpr, tpr, color='darkorange', lw=2, label='ROC curve (area = %0.2f)' % roc_auc)\n",
        "plt.plot([0, 1], [0, 1], color='navy', lw=2, linestyle='--')\n",
        "plt.xlim([0.0, 1.0])\n",
        "plt.ylim([0.0, 1.05])\n",
        "plt.xlabel('False Positive Rate')\n",
        "plt.ylabel('True Positive Rate')\n",
        "plt.title('ROC Curve for Class 0')\n",
        "plt.legend(loc=\"lower right\")\n",
        "plt.show()\n"
      ]
    },
    {
      "cell_type": "code",
      "execution_count": null,
      "metadata": {
        "colab": {
          "base_uri": "https://localhost:8080/",
          "height": 472
        },
        "id": "_DaU5FwHveX2",
        "outputId": "da47bcb1-b721-4ba2-8189-af34b167effd"
      },
      "outputs": [
        {
          "data": {
            "image/png": "[encoded data removed]",
            "text/plain": [
              "<Figure size 640x480 with 1 Axes>"
            ]
          },
          "metadata": {},
          "output_type": "display_data"
        }
      ],
      "source": [
        "\n",
        "\n",
        "import matplotlib.pyplot as plt\n",
        "# Get predicted probabilities for class 1\n",
        "y_pred_proba = model.predict_proba(X_test_transformed)[:, 1]\n",
        "\n",
        "# Compute ROC curve and ROC area for class 1\n",
        "fpr, tpr, _ = roc_curve(y_test_encoded == 1, y_pred_proba)\n",
        "roc_auc = auc(fpr, tpr)\n",
        "\n",
        "# Plot ROC curve for class 1\n",
        "plt.figure()\n",
        "plt.plot(fpr, tpr, color='blue', lw=2, label='ROC curve (area = %0.2f)' % roc_auc)\n",
        "plt.plot([0, 1], [0, 1], color='navy', lw=2, linestyle='--')\n",
        "plt.xlim([0.0, 1.0])\n",
        "plt.ylim([0.0, 1.05])\n",
        "plt.xlabel('False Positive Rate')\n",
        "plt.ylabel('True Positive Rate')\n",
        "plt.title('ROC Curve for Class 1')\n",
        "plt.legend(loc=\"lower right\")\n",
        "plt.show()\n"
      ]
    },
    {
      "cell_type": "code",
      "execution_count": null,
      "metadata": {
        "colab": {
          "base_uri": "https://localhost:8080/"
        },
        "id": "z0ltd8_ov6J4",
        "outputId": "e2e9fa66-d7c5-4c66-9533-94fb75cb90aa"
      },
      "outputs": [
        {
          "name": "stdout",
          "output_type": "stream",
          "text": [
            "Fold 1 Accuracy: 1.0\n",
            "Fold 2 Accuracy: 1.0\n",
            "Fold 3 Accuracy: 0.9995941558441559\n",
            "Fold 4 Accuracy: 0.9991883116883117\n",
            "Fold 5 Accuracy: 0.9995941558441559\n",
            "Average Accuracy across all folds: 0.9996753246753247\n"
          ]
        }
      ],
      "source": [
        "\n",
        "\n",
        "from sklearn.model_selection import KFold\n",
        "\n",
        "# Initialize KFold\n",
        "kf = KFold(n_splits=5, shuffle=True, random_state=42)  # 5 folds, shuffle data, set random state\n",
        "\n",
        "# Store accuracy scores for each fold\n",
        "accuracy_scores = []\n",
        "\n",
        "# Iterate through the folds\n",
        "for train_index, test_index in kf.split(X_train_transformed):\n",
        "  # Get the training and testing data for this fold\n",
        "  X_train_fold, X_test_fold = X_train_transformed[train_index], X_train_transformed[test_index]\n",
        "  y_train_fold, y_test_fold = y_train_encoded[train_index], y_train_encoded[test_index]\n",
        "\n",
        "  # Initialize and train the XGBoost classifier\n",
        "  model_fold = xgb.XGBClassifier(random_state=42)\n",
        "  model_fold.fit(X_train_fold, y_train_fold)\n",
        "\n",
        "  # Make predictions on the test set for this fold\n",
        "  y_pred_fold = model_fold.predict(X_test_fold)\n",
        "\n",
        "  # Calculate accuracy for this fold\n",
        "  accuracy_fold = accuracy_score(y_test_fold, y_pred_fold)\n",
        "  accuracy_scores.append(accuracy_fold)\n",
        "\n",
        "# Print accuracy scores for each fold\n",
        "for i, accuracy in enumerate(accuracy_scores):\n",
        "  print(f\"Fold {i+1} Accuracy: {accuracy}\")\n",
        "\n",
        "# Calculate and print the average accuracy across all folds\n",
        "average_accuracy = sum(accuracy_scores) / len(accuracy_scores)\n",
        "print(f\"Average Accuracy across all folds: {average_accuracy}\")\n"
      ]
    },
    {
      "cell_type": "code",
      "execution_count": null,
      "metadata": {
        "colab": {
          "base_uri": "https://localhost:8080/",
          "height": 564
        },
        "id": "ComqQZq2wD4f",
        "outputId": "c3e4670c-ed01-404d-ae4c-8527f2d336a4"
      },
      "outputs": [
        {
          "data": {
            "image/png": "[encoded data removed]",
            "text/plain": [
              "<Figure size 800x600 with 2 Axes>"
            ]
          },
          "metadata": {},
          "output_type": "display_data"
        }
      ],
      "source": [
        "\n",
        "\n",
        "from sklearn.metrics import confusion_matrix\n",
        "import seaborn as sns\n",
        "import matplotlib.pyplot as plt\n",
        "\n",
        "\n",
        "cm = confusion_matrix(y_test_encoded, y_pred)\n",
        "\n",
        "plt.figure(figsize=(8, 6))\n",
        "sns.heatmap(cm, annot=True, fmt='d', cmap='Blues',\n",
        "            xticklabels=label_encoder.classes_, yticklabels=label_encoder.classes_)\n",
        "plt.xlabel('Predicted')\n",
        "plt.ylabel('Actual')\n",
        "plt.title('Confusion Matrix')\n",
        "plt.show()\n"
      ]
    },
    {
      "cell_type": "code",
      "execution_count": null,
      "metadata": {
        "colab": {
          "base_uri": "https://localhost:8080/"
        },
        "id": "OSY43o3ZwOUv",
        "outputId": "5d33b1dc-1c32-44ea-bc92-807f77b4bc19"
      },
      "outputs": [
        {
          "name": "stdout",
          "output_type": "stream",
          "text": [
            "Prediction for new data point: High\n"
          ]
        }
      ],
      "source": [
        "\n",
        "import pandas as pd\n",
        "import numpy as np\n",
        "\n",
        "# Assuming you have a new data point as a dictionary\n",
        "new_data_point = {\n",
        "    'Temperature': 20,\n",
        "    'Rainfall': 30,\n",
        "    'K_Ratio': 15,\n",
        "    'pH': 6.5,\n",
        "    'Light_Hours': 0.8,\n",
        "    'Light_Intensity': 2.1,\n",
        "    'Nitrogen': 10,\n",
        "    'Phosphorus': 1.2,\n",
        "    'Potassium': 5.0,\n",
        "    'Yield': 0.6,\n",
        "    'Rh': 2.5,\n",
        "    'N_Ratio': 0.5,\n",
        "    'P_Ratio': 0.03,\n",
        "    'Photoperiod': 'Day Neutral',\n",
        "    'Category_pH': 'neutral'\n",
        "}\n",
        "\n",
        "# Convert the new data point to a DataFrame\n",
        "new_data_df = pd.DataFrame([new_data_point])\n",
        "\n",
        "\n",
        "# Preprocess the new data point using the same transformer\n",
        "new_data_transformed = transformer.transform(new_data_df)\n",
        "\n",
        "# Make prediction for new data point\n",
        "new_prediction = model.predict(new_data_transformed)\n",
        "\n",
        "\n",
        "# Inverse transform to get the original class label\n",
        "new_prediction_decoded = label_encoder.inverse_transform(new_prediction)\n",
        "\n",
        "\n",
        "print(f\"Prediction for new data point: {new_prediction_decoded[0]}\")\n"
      ]
    },
    {
      "cell_type": "code",
      "execution_count": 39,
      "metadata": {
        "id": "UJ5g5K1vqUiT"
      },
      "outputs": [],
      "source": [
        "import joblib"
      ]
    },
    {
      "cell_type": "code",
      "execution_count": null,
      "metadata": {
        "colab": {
          "base_uri": "https://localhost:8080/"
        },
        "id": "yALAfjE3q-5k",
        "outputId": "8e97a780-bebe-4cf0-904b-0b5ee98cd6db"
      },
      "outputs": [
        {
          "data": {
            "text/plain": [
              "['label_encoder.joblib']"
            ]
          },
          "execution_count": 40,
          "metadata": {},
          "output_type": "execute_result"
        }
      ],
      "source": [
        "\n",
        "\n",
        "joblib.dump(model, 'soil_classifier.joblib')\n",
        "joblib.dump(transformer, 'transformer.joblib')\n",
        "joblib.dump(label_encoder, 'label_encoder.joblib')\n"
      ]
    },
    {
      "cell_type": "code",
      "execution_count": 41,
      "metadata": {
        "id": "KLmAys3crO1S"
      },
      "outputs": [],
      "source": [
        "classifier = joblib.load('soil_classifier.joblib')\n",
        "transformer = joblib.load('transformer.joblib')\n",
        "label_encoder = joblib.load('label_encoder.joblib')"
      ]
    },
    {
      "cell_type": "code",
      "execution_count": null,
      "metadata": {
        "id": "Uj_emC2SroDL"
      },
      "outputs": [],
      "source": []
    }
  ],
  "metadata": {
    "colab": {
      "provenance": []
    },
    "kernelspec": {
      "display_name": "Python 3",
      "name": "python3"
    },
    "language_info": {
      "codemirror_mode": {
        "name": "ipython",
        "version": 3
      },
      "file_extension": ".py",
      "mimetype": "text/x-python",
      "name": "python",
      "nbconvert_exporter": "python",
      "pygments_lexer": "ipython3",
      "version": "3.13.1"
    }
  },
  "nbformat": 4,
  "nbformat_minor": 0
}
